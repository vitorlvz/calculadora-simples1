{
  "cells": [
    {
      "cell_type": "code",
      "source": [
        "def calcular():\n",
        "    number1 = int(input('insira o primeiro numero:  '))\n",
        "    operation = input('''\n",
        "  Please type in the math operation you would like to complete:\n",
        "+ para adição\n",
        "- para subtração\n",
        "* para multiplicação\n",
        "/ para divisão\n",
        "''')\n",
        "    number2 = int(input('insira o segundo numero:  '))\n",
        "\n",
        "    if operation == '+':\n",
        "        print('{} + {} = '.format(number1, number2))\n",
        "        print(number1 + number2)\n",
        "\n",
        "    elif operation == '-':\n",
        "        print('{} - {} = '.format(number1, number2))\n",
        "        print(number1 - number2)\n",
        "\n",
        "    elif operation == '*':\n",
        "        print('{} * {} = '.format(number1, number2))\n",
        "        print(number1 * number2)\n",
        "\n",
        "    elif operation == '/':\n",
        "        print('{} / {} = '.format(number1, number2))\n",
        "        print(number1 / number2)\n",
        "\n",
        "    again()  # chama a função novamente ao final\n",
        "\n",
        "\n",
        "def again():\n",
        "    calcularnovamente = input('calcular novamente? sim ou não? ')\n",
        "    if calcularnovamente == 'sim':\n",
        "        calcular()\n",
        "    elif calcularnovamente == 'não':\n",
        "        print('ok')\n",
        "    else:\n",
        "        calcular()\n",
        "\n",
        "\n",
        "calcular()"
      ],
      "metadata": {
        "id": "aLE0af0pNtXV"
      },
      "execution_count": null,
      "outputs": []
    }
  ],
  "metadata": {
    "colab": {
      "provenance": []
    },
    "kernelspec": {
      "display_name": "Python 3",
      "name": "python3"
    },
    "language_info": {
      "name": "python"
    }
  },
  "nbformat": 4,
  "nbformat_minor": 0
}